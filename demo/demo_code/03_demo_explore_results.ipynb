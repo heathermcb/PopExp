{
 "cells": [
  {
   "cell_type": "markdown",
   "metadata": {},
   "source": [
    "#### Introduction\n",
    "\n",
    "The purpose of this notebook, along with 01_data_setup_example.ipynb and 02_run_example.ipynb is to provide a tutorial of how you may want to use the pop_exp pacakge functions.\n",
    "\n",
    "Please see 01_data_setup_example.ipynb and 02_run_example.ipynb before you work through this notebook!\n",
    "\n",
    "This notebook is going to explore the results returned by functions in PopExp that were run the previous section of the tutorial. "
   ]
  },
  {
   "cell_type": "markdown",
   "metadata": {},
   "source": [
    "In the previous section, we found the number of people affected by any US wildfire disaster in 2016, 2017, and 2018, as well as the number of people affected by any wildfire disaster by ZCTA and each wildfire disaster by ZCTA.\n",
    "\n",
    "In this section we'll explore the results from each of these function runs.\n",
    "\n",
    "The first function run helped us find the total number of people affected by any wildfire disaster in 2016, 2017, and 2018. To use these results, we'll first read in and plot the original wildfire disaster dataset, and then read in the results and calculate the total number of people affected by any wildfire disaster.\n",
    "\n",
    "We'll start by loading libraries and reading in necessary data. "
   ]
  },
  {
   "cell_type": "code",
   "execution_count": null,
   "metadata": {},
   "outputs": [],
   "source": [
    "import geopandas as gpd \n",
    "import pandas as pd\n",
    "import pathlib\n",
    "import sys\n",
    "import matplotlib.pyplot as plt\n",
    "import glob"
   ]
  },
  {
   "cell_type": "markdown",
   "metadata": {},
   "source": [
    "We'll read in ZCTA data since the last three PopEx function runs involved ZCTAs, and we'll plot the wildfire disaster data over the California ZCTAs. We ran these functions to calculate national numbers, but we'll plot our exposure and results in California since it's smaller and we can see what's going on a bit better, since we're demonstrating how the functions work in this tutorial."
   ]
  },
  {
   "cell_type": "code",
   "execution_count": null,
   "metadata": {},
   "outputs": [],
   "source": [
    "# Define the base path and data directory\n",
    "base_path = pathlib.Path.cwd().parent\n",
    "data_dir = base_path / \"demo_data\"\n",
    "\n",
    "# Read the raw ZCTA data\n",
    "zctas = gpd.read_file(data_dir / \"01_raw_data\" / \"tl_2020_us_zcta520\" / \"tl_2020_us_zcta520.shp\")\n",
    "\n",
    "# Filter ZCTAs for California ZIP codes (90xxx to 96xxx)\n",
    "zctas_ca = zctas[zctas['GEOID20'].str[:3].astype(int).between(900, 961)]"
   ]
  },
  {
   "cell_type": "code",
   "execution_count": null,
   "metadata": {},
   "outputs": [],
   "source": [
    "# Read in raw wildfire dataset\n",
    "fires = gpd.read_file(data_dir / \"01_raw_data\"/ \"wildfires_conus.geojson\")\n",
    "\n",
    "# Filter to wildfires in California that occurred between 2016 and 2018 (inclusive)\n",
    "fires_ca = fires[(fires['wildfire_states'].str.contains('CA')) & \n",
    "                 (fires['wildfire_year'] >= 2016) & \n",
    "                 (fires['wildfire_year'] <= 2018)]\n",
    "\n",
    "# transform zctas to the fire crs\n",
    "zctas_ca = zctas_ca.to_crs(fires_ca.crs)"
   ]
  },
  {
   "cell_type": "markdown",
   "metadata": {},
   "source": [
    "First, just to get an idea of our exposure that we used in the first four function runs, we'll plot all the wildfire disasters in 2016-2018 on the same plot overlayed on ZCTAs. "
   ]
  },
  {
   "cell_type": "code",
   "execution_count": null,
   "metadata": {},
   "outputs": [],
   "source": [
    "# plot the fires overlayed onto ZCTA boundaries\n",
    "# Plot the ZCTA boundaries first\n",
    "fig, ax = plt.subplots(figsize=(10, 10))\n",
    "zctas_ca.boundary.plot(ax=ax, linewidth=0.5, edgecolor='black', zorder=1)\n",
    "\n",
    "# Overlay the fire geometries with fill color\n",
    "fires_ca.plot(ax=ax, color='red', alpha=0.5, edgecolor='red', zorder=2)\n",
    "\n",
    "# Set plot title and labels\n",
    "ax.set_title('Wildfire disaster boundaries in CA 2016-2018 on CA ZCTAs')\n",
    "ax.set_axis_off()\n",
    "ax.legend()\n",
    "\n",
    "output_path = data_dir / \"03_results\" / \"wildfire_zcta_plot.pdf\"\n",
    "plt.savefig(output_path, format='pdf', bbox_inches='tight')\n",
    "\n",
    "plt.show()"
   ]
  },
  {
   "cell_type": "markdown",
   "metadata": {},
   "source": [
    "Nice, ok. Now in the first run, we wanted to know the total people residing within 10 km of any wildfire disaster in the US in each of the years 2016-2018. Let's read in the results.\n",
    "If a user ran the function this way, they'd probably be most likely interested in the total number of people affected by wildfire disasters in each year, so for this run, we'll calculate that. We'll sum over the hazard IDs, which might be concatenated because we didn't calculate a total number of people affected by unique hazard. "
   ]
  },
  {
   "cell_type": "code",
   "execution_count": null,
   "metadata": {},
   "outputs": [],
   "source": [
    "# read output\n",
    "tot_af_any_wf = pd.read_csv(data_dir / \"03_results\" / \"num_people_affected_by_wildfire.csv\")\n",
    "tot_af_any_wf.head()\n",
    "\n",
    "# group by year, and sum over number of people affected\n",
    "tot_af_any_wf_grouped = tot_af_any_wf.groupby('year')['num_people_affected'].sum().reset_index()\n",
    "# maybe we want to round the output\n",
    "tot_af_any_wf_grouped['num_people_affected'] = tot_af_any_wf_grouped['num_people_affected'].round()\n",
    "tot_af_any_wf_grouped.head()"
   ]
  },
  {
   "cell_type": "markdown",
   "metadata": {},
   "source": [
    "That's it for the first run. \n",
    "\n",
    "Moving on to the second run. \n",
    "\n",
    "In this run we calculated the total number of people residing within 10km of  each unique disaster in each year. Someone might have used this function if they wanted to identify the top 5 disasters in each year affecting the largest population, so let's find those disasters and plot them. "
   ]
  },
  {
   "cell_type": "code",
   "execution_count": null,
   "metadata": {},
   "outputs": [],
   "source": [
    "# now we want to read in the output from the function that gave us our \n",
    "# denominator data\n"
   ]
  },
  {
   "cell_type": "code",
   "execution_count": null,
   "metadata": {},
   "outputs": [],
   "source": [
    "# want to read that file in\n",
    "num_residing_by_zcta = pd.read_csv(data_dir / \"03_results\" / \"num_people_residing_by_zcta.csv\")\n",
    "num_residing_by_zcta.head()\n",
    "type(num_residing_by_zcta['ID_spatial_unit'][0])"
   ]
  },
  {
   "cell_type": "code",
   "execution_count": null,
   "metadata": {},
   "outputs": [],
   "source": [
    "zctas_ca.head()"
   ]
  },
  {
   "cell_type": "code",
   "execution_count": null,
   "metadata": {},
   "outputs": [],
   "source": [
    "# read zctas for plotting\n",
    "zctas_ca.rename(columns={\"ZCTA5CE20\": \"ID_spatial_unit\"}, inplace=True)\n",
    "zctas_ca = zctas_ca[[\"ID_spatial_unit\", \"geometry\"]]\n",
    "zctas_ca.head()"
   ]
  },
  {
   "cell_type": "code",
   "execution_count": null,
   "metadata": {},
   "outputs": [],
   "source": [
    "num_residing_ca = num_residing_by_zcta[num_residing_by_zcta['ID_spatial_unit'].between(90000, 96100)].copy()\n",
    "num_residing_ca.head()"
   ]
  },
  {
   "cell_type": "code",
   "execution_count": null,
   "metadata": {},
   "outputs": [],
   "source": [
    "# convert id spatial unit to string\n",
    "num_residing_ca['ID_spatial_unit'] = num_residing_ca['ID_spatial_unit'].astype(str)\n"
   ]
  },
  {
   "cell_type": "code",
   "execution_count": null,
   "metadata": {},
   "outputs": [],
   "source": [
    "# # select cols ID spatial unit and num_people_affected\n",
    "num_residing_ca = num_residing_ca[[\"ID_spatial_unit\", \"num_people_affected\"]]"
   ]
  },
  {
   "cell_type": "code",
   "execution_count": null,
   "metadata": {},
   "outputs": [],
   "source": [
    "zctas_ca.head() \n",
    "num_residing_ca.head()"
   ]
  },
  {
   "cell_type": "code",
   "execution_count": null,
   "metadata": {},
   "outputs": [],
   "source": [
    "# merge to zctas_ca geometry for plotting\n",
    "zctas_ca = zctas_ca.merge(num_residing_ca, on=\"ID_spatial_unit\", how=\"left\")"
   ]
  },
  {
   "cell_type": "code",
   "execution_count": null,
   "metadata": {},
   "outputs": [],
   "source": [
    "zctas_ca"
   ]
  },
  {
   "cell_type": "code",
   "execution_count": null,
   "metadata": {},
   "outputs": [],
   "source": [
    "fig, ax = plt.subplots(figsize=(10, 10))\n",
    "zctas_ca.plot(column='num_people_affected', ax=ax, legend=True, cmap='viridis', linewidth=0.1, edgecolor='black')\n",
    "\n",
    "# Set plot title and labels\n",
    "ax.set_title('Population by 2020 ZCTA according to GHSL 2020 100m resolution gridded population dataset')\n",
    "ax.set_axis_off()\n",
    "\n",
    "plt.show()"
   ]
  },
  {
   "cell_type": "code",
   "execution_count": null,
   "metadata": {},
   "outputs": [],
   "source": [
    "la_zctas = zctas_ca[zctas_ca['ID_spatial_unit'].astype(int).between(90000, 91610)]\n",
    "sf_zctas = zctas_ca[zctas_ca['ID_spatial_unit'].astype(int).between(94000, 94199)]"
   ]
  },
  {
   "cell_type": "code",
   "execution_count": null,
   "metadata": {},
   "outputs": [],
   "source": [
    "from mpl_toolkits.axes_grid1.inset_locator import inset_axes\n",
    "\n",
    "fig, ax = plt.subplots(figsize=(10, 10))\n",
    "zctas_ca.plot(column='num_people_affected', ax=ax, legend=True, cmap='viridis', linewidth=0.1, edgecolor='black')\n",
    "\n",
    "# Set plot title and labels\n",
    "ax.set_title('Population by 2020 ZCTA according to GHSL 2020 100m resolution gridded population dataset')\n",
    "ax.set_axis_off()\n",
    "\n",
    "# Create an inset map for LA area with adjusted position\n",
    "ax_inset_la = inset_axes(ax, width=\"30%\", height=\"30%\", loc='lower left', bbox_to_anchor=(-0.4, 0.05, 1, 1), bbox_transform=ax.transAxes, borderpad=2)\n",
    "zctas_ca.plot(column='num_people_affected', ax=ax_inset_la, cmap='viridis', linewidth=0.1, edgecolor='black')\n",
    "\n",
    "# Set the extent of the inset map to the bounds of the LA ZCTAs\n",
    "xmin, ymin, xmax, ymax = la_zctas.total_bounds\n",
    "ax_inset_la.set_xlim(xmin, xmax)\n",
    "ax_inset_la.set_ylim(ymin, ymax)\n",
    "\n",
    "ax_inset_la.set_title('LA Area')\n",
    "ax_inset_la.set_axis_off()\n",
    "\n",
    "# Create an inset map for SF area with adjusted position\n",
    "ax_inset_sf = inset_axes(ax, width=\"30%\", height=\"30%\", loc='lower left', bbox_to_anchor=(-0.4, 0.45, 1, 1), bbox_transform=ax.transAxes, borderpad=2)\n",
    "zctas_ca.plot(column='num_people_affected', ax=ax_inset_sf, cmap='viridis', linewidth=0.1, edgecolor='black')\n",
    "\n",
    "# Set the extent of the inset map to the bounds of the SF ZCTAs\n",
    "xmin, ymin, xmax, ymax = sf_zctas.total_bounds\n",
    "ax_inset_sf.set_xlim(xmin, xmax)\n",
    "ax_inset_sf.set_ylim(ymin, ymax)\n",
    "\n",
    "ax_inset_sf.set_title('Bay Area')\n",
    "ax_inset_sf.set_axis_off()\n",
    "\n",
    "plt.show()"
   ]
  },
  {
   "cell_type": "code",
   "execution_count": null,
   "metadata": {},
   "outputs": [],
   "source": [
    "# finally need to read number of people affected by wildfire \n"
   ]
  },
  {
   "cell_type": "markdown",
   "metadata": {},
   "source": [
    "\n",
    "First, we'll plot the wildfire disasters that did occur on top of ZCTA boundaries, then we'll plot the number of people who resided in each ZCTA, and finally we'll plot the number of people affected by a wildfire disaster by ZCTA."
   ]
  },
  {
   "cell_type": "code",
   "execution_count": null,
   "metadata": {},
   "outputs": [],
   "source": []
  },
  {
   "cell_type": "code",
   "execution_count": null,
   "metadata": {},
   "outputs": [],
   "source": [
    "base_path = pathlib.Path.cwd().parent\n",
    "data_dir = base_path / \"demo_data\" \n",
    "\n",
    "# read output\n",
    "wf_by_zcta = pd.read_csv(data_dir / \"03_results\" / \"num_people_affected_by_wildfire.csv\")\n",
    "\n",
    "wf_by_zcta.head()\n"
   ]
  },
  {
   "cell_type": "code",
   "execution_count": null,
   "metadata": {},
   "outputs": [],
   "source": [
    "# read in raw wildfire dataset \n",
    "fires = gpd.read_file(data_dir / \"01_raw_data\"/ \"wildfires_conus.geojson\")\n",
    "# fitler to wildfire states contains 'CA'\n",
    "fires_ca = fires[(fires['wildfire_states'].str.contains('CA')) & \n",
    "                 (fires['wildfire_year'] >= 2015) & \n",
    "                 (fires['wildfire_year'] <= 2019)]\n",
    "\n",
    "fires_ca.plot()"
   ]
  },
  {
   "cell_type": "code",
   "execution_count": null,
   "metadata": {},
   "outputs": [],
   "source": [
    "zctas = gpd.read_file(data_dir / \"01_raw_data\" / \"tl_2020_us_zcta520\" / \"tl_2020_us_zcta520.shp\")\n",
    "zctas.head()"
   ]
  },
  {
   "cell_type": "code",
   "execution_count": null,
   "metadata": {},
   "outputs": [],
   "source": [
    "# read zctas for plotting\n",
    "zctas.rename(columns={\"ZCTA5CE20\": \"ID_spatial_unit\"}, inplace=True)\n",
    "zctas = zctas[[\"ID_spatial_unit\", \"geometry\"]]\n",
    "zctas.head()\n",
    "\n"
   ]
  },
  {
   "cell_type": "code",
   "execution_count": null,
   "metadata": {},
   "outputs": [],
   "source": [
    "zctas_ca = zctas[zctas['ID_spatial_unit'].str[:3].astype(int).between(900, 961)]"
   ]
  },
  {
   "cell_type": "code",
   "execution_count": null,
   "metadata": {},
   "outputs": [],
   "source": [
    "zctas_ca.plot()\n",
    "zctas_ca.boundary.plot()"
   ]
  },
  {
   "cell_type": "code",
   "execution_count": null,
   "metadata": {},
   "outputs": [],
   "source": [
    "# Define the base path and data directory\n",
    "base_path = pathlib.Path.cwd().parent\n",
    "data_dir = base_path / \"demo_data\"\n",
    "\n",
    "# Read the raw ZCTA data\n",
    "zctas = gpd.read_file(data_dir / \"01_raw_data\" / \"tl_2020_us_zcta520\" / \"tl_2020_us_zcta520.shp\")\n",
    "\n",
    "# Filter ZCTAs for California ZIP codes (90xxx to 96xxx)\n",
    "zctas_ca = zctas[zctas['GEOID20'].str[:3].astype(int).between(900, 961)]\n",
    "\n",
    "# Read in raw wildfire dataset\n",
    "fires = gpd.read_file(data_dir / \"01_raw_data\"/ \"wildfires_conus.geojson\")\n",
    "\n",
    "# Filter to wildfires in California that occurred between 2015 and 2019 (inclusive)\n",
    "fires_ca = fires[(fires['wildfire_states'].str.contains('CA')) & \n",
    "                 (fires['wildfire_year'] >= 2015) & \n",
    "                 (fires['wildfire_year'] <= 2019)]\n",
    "\n",
    "zctas_ca = zctas_ca.to_crs(fires_ca.crs)\n",
    "\n",
    "# Plot the ZCTA boundaries first\n",
    "fig, ax = plt.subplots(figsize=(10, 10))\n",
    "zctas_ca.boundary.plot(ax=ax, linewidth=0.5, edgecolor='black', zorder=1)\n",
    "\n",
    "# Overlay the fire geometries with fill color\n",
    "fires_ca.plot(ax=ax, color='red', alpha=0.5, edgecolor='red', zorder=2)\n",
    "\n",
    "# Set plot title and labels\n",
    "ax.set_title('Wildfire disaster boundaries in CA 2016-2018 on CA ZCTAs')\n",
    "ax.set_axis_off()\n",
    "ax.legend()\n",
    "\n",
    "output_path = data_dir / \"03_results\" / \"wildfire_zcta_plot.pdf\"\n",
    "plt.savefig(output_path, format='pdf', bbox_inches='tight')\n",
    "\n",
    "plt.show()"
   ]
  },
  {
   "cell_type": "code",
   "execution_count": null,
   "metadata": {},
   "outputs": [],
   "source": [
    "# want to read that file in\n",
    "num_residing_by_zcta = pd.read_csv(data_dir / \"03_results\" / \"num_people_residing_by_zcta.csv\")\n",
    "num_residing_by_zcta.head()\n",
    "type(num_residing_by_zcta['ID_spatial_unit'][0])\n",
    "\n",
    "# # select cols ID spatial unit and num_people_affected\n",
    "# num_residing_ca = num_residing_ca[[\"ID_spatial_unit\", \"num_people_affected\"]]\n",
    "\n",
    "# # merge to zctas_ca\n",
    "# zctas_ca = zctas_ca.merge(num_residing_ca, on=\"ID_spatial_unit\", how=\"left\")\n",
    "\n",
    "\n",
    "\n"
   ]
  },
  {
   "cell_type": "code",
   "execution_count": null,
   "metadata": {},
   "outputs": [],
   "source": []
  },
  {
   "cell_type": "code",
   "execution_count": null,
   "metadata": {},
   "outputs": [],
   "source": [
    "zctas_ca.head()"
   ]
  },
  {
   "cell_type": "code",
   "execution_count": null,
   "metadata": {},
   "outputs": [],
   "source": []
  },
  {
   "cell_type": "code",
   "execution_count": null,
   "metadata": {},
   "outputs": [],
   "source": [
    "num_residing_ca = num_residing_by_zcta[num_residing_by_zcta['ID_spatial_unit'].between(90000, 96100)]\n",
    "num_residing_ca.head()\n",
    "# convert id spatial unit to string\n",
    "num_residing_ca['ID_spatial_unit'] = num_residing_ca['ID_spatial_unit'].astype(str)\n",
    "\n",
    "# # select cols ID spatial unit and num_people_affected\n",
    "num_residing_ca = num_residing_ca[[\"ID_spatial_unit\", \"num_people_affected\"]]\n",
    "\n",
    "# # merge to zctas_ca\n",
    "zctas_ca = zctas_ca.merge(num_residing_ca, on=\"ID_spatial_unit\", how=\"left\")\n"
   ]
  },
  {
   "cell_type": "code",
   "execution_count": null,
   "metadata": {},
   "outputs": [],
   "source": [
    "print(num_residing_by_zcta)"
   ]
  },
  {
   "cell_type": "code",
   "execution_count": null,
   "metadata": {},
   "outputs": [],
   "source": []
  },
  {
   "cell_type": "code",
   "execution_count": null,
   "metadata": {},
   "outputs": [],
   "source": [
    "import geopandas as gpd\n",
    "import matplotlib.pyplot as plt\n",
    "import pathlib\n",
    "import rasterio\n",
    "from rasterio.plot import show\n",
    "from rasterio.mask import mask\n",
    "from rasterio.warp import calculate_default_transform, reproject, Resampling\n"
   ]
  },
  {
   "cell_type": "code",
   "execution_count": null,
   "metadata": {},
   "outputs": [],
   "source": [
    "# Define the base path and data directory\n",
    "base_path = pathlib.Path.cwd().parent\n",
    "data_dir = base_path / \"demo_data\"\n",
    "\n",
    "# Read the raw ZCTA data\n",
    "zctas = gpd.read_file(data_dir / \"01_raw_data\" / \"tl_2020_us_zcta520\" / \"tl_2020_us_zcta520.shp\")\n",
    "\n",
    "# Filter ZCTAs for California ZIP codes (90xxx to 96xxx)\n",
    "zctas_ca = zctas[zctas['GEOID20'].str[:3].astype(int).between(900, 961)]\n"
   ]
  },
  {
   "cell_type": "code",
   "execution_count": null,
   "metadata": {},
   "outputs": [],
   "source": [
    "with rasterio.open(raster_path) as src:\n",
    "    out_image, out_transform = mask(src, zctas_ca.geometry, crop=True)\n",
    "    out_meta = src.meta.copy()\n",
    "# Calculate the bounds of the masked raster\n",
    "left, bottom, right, top = out_transform * (0, 0), out_transform * (out_image.shape[2], out_image.shape[1])\n",
    "\n",
    "# Reproject the masked raster to the Albers Equal Area CRS\n",
    "albers_crs = \"EPSG:5070\"\n",
    "transform, width, height = calculate_default_transform(\n",
    "    raster_crs, albers_crs, right - left, top - bottom, left, bottom, right, top)\n",
    "kwargs = out_meta.copy()\n",
    "kwargs.update({\n",
    "    'crs': albers_crs,\n",
    "    'transform': transform,\n",
    "    'width': width,\n",
    "    'height': height\n",
    "})\n",
    "\n",
    "reprojected_image = np.empty((out_image.shape[0], height, width), dtype=out_image.dtype)\n",
    "\n",
    "for i in range(out_image.shape[0]):\n",
    "    reproject(\n",
    "        source=out_image[i],\n",
    "        destination=reprojected_image[i],\n",
    "        src_transform=out_transform,\n",
    "        src_crs=raster_crs,\n",
    "        dst_transform=transform,\n",
    "        dst_crs=albers_crs,\n",
    "        resampling=Resampling.nearest\n",
    "    )\n",
    "\n",
    "# Plot the reprojected masked raster values within each ZCTA\n",
    "fig, ax = plt.subplots(figsize=(10, 10))\n",
    "show(reprojected_image, transform=transform, ax=ax, cmap='viridis')\n",
    "zctas_ca.to_crs(albers_crs).boundary.plot(ax=ax, linewidth=0.5, edgecolor='blue')\n",
    "\n",
    "# Set plot title and labels\n",
    "ax.set_title('Masked Raster Values within California ZCTAs (Albers Equal Area)')\n",
    "ax.set_axis_off()\n",
    "\n",
    "plt.show()"
   ]
  },
  {
   "cell_type": "code",
   "execution_count": null,
   "metadata": {},
   "outputs": [],
   "source": [
    "type(out_meta)"
   ]
  },
  {
   "cell_type": "code",
   "execution_count": null,
   "metadata": {},
   "outputs": [],
   "source": [
    "# Reproject the masked raster to the Albers Equal Area CRS\n",
    "albers_crs = \"EPSG:5070\"\n",
    "transform, width, height = calculate_default_transform(\n",
    "    raster_crs, albers_crs, out_image.shape[2], out_image.shape[1], *out_transform.bounds)\n",
    "kwargs = out_meta.copy()\n",
    "kwargs.update({\n",
    "    'crs': albers_crs,\n",
    "    'transform': transform,\n",
    "    'width': width,\n",
    "    'height': height\n",
    "})"
   ]
  },
  {
   "cell_type": "code",
   "execution_count": null,
   "metadata": {},
   "outputs": [],
   "source": [
    "print(zctas_ca.crs)\n",
    "print(raster_crs)"
   ]
  },
  {
   "cell_type": "code",
   "execution_count": null,
   "metadata": {},
   "outputs": [],
   "source": [
    "# Mask the raster with the ZCTAs\n",
    "with rasterio.open(raster_path) as src:\n",
    "    out_image, out_transform = mask(src, zctas_ca.geometry, crop=True)\n",
    "    out_meta = src.meta.copy()\n",
    "\n",
    "# Update the metadata with the new dimensions, transform, and CRS\n",
    "out_meta.update({\n",
    "    \"driver\": \"GTiff\",\n",
    "    \"height\": out_image.shape[1],\n",
    "    \"width\": out_image.shape[2],\n",
    "    \"transform\": out_transform,\n",
    "    \"crs\": raster_crs\n",
    "})\n",
    "\n",
    "# Plot the masked raster values within each ZCTA\n",
    "fig, ax = plt.subplots(figsize=(10, 10))\n",
    "show(out_image, transform=out_transform, ax=ax, cmap='viridis')\n",
    "zctas_ca.boundary.plot(ax=ax, linewidth=0.5, edgecolor='blue')\n",
    "\n",
    "# Set plot title and labels\n",
    "ax.set_title('Masked Raster Values within California ZCTAs')\n",
    "ax.set_axis_off()\n",
    "\n",
    "plt.show()"
   ]
  },
  {
   "cell_type": "code",
   "execution_count": null,
   "metadata": {},
   "outputs": [],
   "source": [
    "import geopandas as gpd\n",
    "import matplotlib.pyplot as plt\n",
    "import pathlib\n",
    "import rasterio\n",
    "from rasterio.plot import show\n",
    "from rasterio.mask import mask\n",
    "from rasterio.warp import calculate_default_transform, reproject, Resampling\n",
    "\n",
    "# Define the base path and data directory\n",
    "base_path = pathlib.Path.cwd().parent\n",
    "data_dir = base_path / \"demo_data\"\n",
    "\n",
    "# Read the raw ZCTA data\n",
    "zctas = gpd.read_file(data_dir / \"01_raw_data\" / \"tl_2020_us_zcta520\" / \"tl_2020_us_zcta520.shp\")\n",
    "\n",
    "# Filter ZCTAs for California ZIP codes (90xxx to 96xxx)\n",
    "zctas_ca = zctas[zctas['GEOID20'].str[:3].astype(int).between(900, 961)]\n",
    "\n",
    "# Read the raster data\n",
    "raster_path = data_dir / \"01_raw_data\" / \"GHS_POP_E2020_GLOBE_R2023A_54009_100_V1_0.tif\"\n",
    "with rasterio.open(raster_path) as src:\n",
    "    raster_crs = src.crs  # Get the raster CRS\n",
    "\n",
    "# Convert the ZCTAs to the raster CRS\n",
    "zctas_ca = zctas_ca.to_crs(raster_crs)\n",
    "\n",
    "# Mask the raster with the ZCTAs\n",
    "with rasterio.open(raster_path) as src:\n",
    "    out_image, out_transform = mask(src, zctas_ca.geometry, crop=True)\n",
    "    out_meta = src.meta.copy()\n",
    "\n",
    "# Update the metadata with the new dimensions, transform, and CRS\n",
    "out_meta.update({\n",
    "    \"driver\": \"GTiff\",\n",
    "    \"height\": out_image.shape[1],\n",
    "    \"width\": out_image.shape[2],\n",
    "    \"transform\": out_transform,\n",
    "    \"crs\": raster_crs\n",
    "})\n",
    "\n",
    "# Reproject the masked raster to the Albers Equal Area CRS\n",
    "albers_crs = \"EPSG:5070\"\n",
    "transform, width, height = calculate_default_transform(\n",
    "    raster_crs, albers_crs, out_image.shape[2], out_image.shape[1], *out_transform.bounds)\n",
    "kwargs = out_meta.copy()\n",
    "kwargs.update({\n",
    "    'crs': albers_crs,\n",
    "    'transform': transform,\n",
    "    'width': width,\n",
    "    'height': height\n",
    "})\n",
    "\n",
    "reprojected_image = np.empty((out_image.shape[0], height, width), dtype=out_image.dtype)\n",
    "\n",
    "for i in range(out_image.shape[0]):\n",
    "    reproject(\n",
    "        source=out_image[i],\n",
    "        destination=reprojected_image[i],\n",
    "        src_transform=out_transform,\n",
    "        src_crs=raster_crs,\n",
    "        dst_transform=transform,\n",
    "        dst_crs=albers_crs,\n",
    "        resampling=Resampling.nearest\n",
    "    )\n",
    "\n",
    "# Plot the reprojected masked raster values within each ZCTA\n",
    "fig, ax = plt.subplots(figsize=(10, 10))\n",
    "show(reprojected_image, transform=transform, ax=ax, cmap='viridis')\n",
    "zctas_ca.to_crs(albers_crs).boundary.plot(ax=ax, linewidth=0.5, edgecolor='blue')\n",
    "\n",
    "# Set plot title and labels\n",
    "ax.set_title('Masked Raster Values within California ZCTAs (Albers Equal Area)')\n",
    "ax.set_axis_off()\n",
    "\n",
    "plt.show()"
   ]
  },
  {
   "cell_type": "code",
   "execution_count": null,
   "metadata": {},
   "outputs": [],
   "source": [
    "\n",
    "\n",
    "\n",
    "\n",
    "\n",
    "# Read the raster data\n",
    "raster_path = data_dir / \"01_raw_data\" / \"GHS_POP_E2020_GLOBE_R2023A_54009_100_V1_0.tif\"\n",
    "with rasterio.open(raster_path) as src:\n",
    "    # Mask the raster with the ZCTAs\n",
    "    out_image, out_transform = mask(src, zctas_ca.geometry, crop=True)\n",
    "    out_meta = src.meta.copy()\n",
    "\n",
    "# Update the metadata with the new dimensions, transform, and CRS\n",
    "out_meta.update({\n",
    "    \"driver\": \"GTiff\",\n",
    "    \"height\": out_image.shape[1],\n",
    "    \"width\": out_image.shape[2],\n",
    "    \"transform\": out_transform,\n",
    "    \"crs\": src.crs\n",
    "})\n",
    "\n",
    "# Plot the masked raster values within each ZCTA\n",
    "fig, ax = plt.subplots(figsize=(10, 10))\n",
    "show(out_image, transform=out_transform, ax=ax, cmap='viridis')\n",
    "zctas_ca.boundary.plot(ax=ax, linewidth=0.5, edgecolor='blue')\n",
    "\n",
    "# Set plot title and labels\n",
    "ax.set_title('Masked Raster Values within California ZCTAs')\n",
    "ax.set_axis_off()\n",
    "\n",
    "plt.show()"
   ]
  },
  {
   "cell_type": "markdown",
   "metadata": {},
   "source": []
  },
  {
   "cell_type": "code",
   "execution_count": null,
   "metadata": {},
   "outputs": [],
   "source": [
    "# set both zctas and fires to albers equal area\n",
    "zctas_ca = zctas_ca.to_crs(fires_ca.crs)\n",
    "\n"
   ]
  },
  {
   "cell_type": "code",
   "execution_count": null,
   "metadata": {},
   "outputs": [],
   "source": [
    "fig, ax = plt.subplots(figsize=(10, 10))\n",
    "zctas_ca.boundary.plot(ax=ax, linewidth=0.5, edgecolor='blue', label='ZCTA Boundaries')\n",
    "\n",
    "# Overlay the fire geometries\n",
    "fires_ca.plot(ax=ax, color='red', label='Fire Boundaries')\n",
    "\n",
    "# Set plot title and labels\n",
    "ax.set_title('California ZCTAs with Fire Boundaries')\n",
    "ax.set_axis_off()\n",
    "ax.legend()\n",
    "\n",
    "plt.show()\n",
    "\n",
    "\n",
    "#fig, ax = plt.subplots(figsize=(10, 10))\n",
    "# ax = zctas_ca.boundary.plot(linewidth=0.5, edgecolor='k', label='ZCTA Boundaries')  # Plot ZCTA boundaries\n",
    "# fires_ca.boundary.plot(ax=ax, linewidth=1, edgecolor='red', alpha=0.5, label='Fire Boundaries')  # Overlay fire boundaries with transparency\n",
    "\n",
    "# # Set plot title and labels\n",
    "# ax.set_title('California ZCTAs with Fire Boundaries')\n",
    "# ax.set_axis_off()\n",
    "# ax.legend()\n"
   ]
  },
  {
   "cell_type": "code",
   "execution_count": null,
   "metadata": {},
   "outputs": [],
   "source": [
    "zctas = gpd.read_file(data_dir / \"01_raw_data\" / \"tl_2020_us_zcta520\" / \"tl_2020_us_zcta520.shp\")\n"
   ]
  }
 ],
 "metadata": {
  "kernelspec": {
   "display_name": "wf",
   "language": "python",
   "name": "python3"
  },
  "language_info": {
   "codemirror_mode": {
    "name": "ipython",
    "version": 3
   },
   "file_extension": ".py",
   "mimetype": "text/x-python",
   "name": "python",
   "nbconvert_exporter": "python",
   "pygments_lexer": "ipython3",
   "version": "3.12.4"
  }
 },
 "nbformat": 4,
 "nbformat_minor": 2
}
