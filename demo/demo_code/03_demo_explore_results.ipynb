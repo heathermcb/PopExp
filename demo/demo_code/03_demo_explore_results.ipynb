{
 "cells": [
  {
   "cell_type": "markdown",
   "metadata": {},
   "source": [
    "#### Introduction\n",
    "\n",
    "The purpose of this notebook, along with 01_data_setup_example.ipynb and 02_run_example.ipynb is to provide a tutorial of how you may want to use the pop_exp pacakge functions.\n",
    "\n",
    "Please see 01_data_setup_example.ipynb and 02_run_example.ipynb before you work through this notebook!\n",
    "\n",
    "This notebook is going to explore the results returned by functions in PopExp that were run the previous section of the tutorial. "
   ]
  },
  {
   "cell_type": "markdown",
   "metadata": {},
   "source": [
    "In the previous section, we found the number of people affected by any US wildfire disaster in 2016, 2017, and 2018, as well as the number of people affected by any wildfire disaster by ZCTA and each wildfire disaster by ZCTA.\n",
    "\n",
    "In this section we'll explore the results from each of these function runs.\n",
    "\n",
    "The first function run helped us find the total number of people affected by any wildfire disaster in 2016, 2017, and 2018. To use these results, we'll first read in and plot the original wildfire disaster dataset, and then read in the results and calculate the total number of people affected by any wildfire disaster.\n",
    "\n",
    "We'll start by loading libraries and reading in necessary data. "
   ]
  },
  {
   "cell_type": "code",
   "execution_count": null,
   "metadata": {},
   "outputs": [],
   "source": [
    "import geopandas as gpd \n",
    "import pandas as pd\n",
    "import pathlib\n",
    "import sys\n",
    "import matplotlib.pyplot as plt\n",
    "import glob\n",
    "\n",
    "import matplotlib.cm as cm\n",
    "import matplotlib.colors as mcolors\n",
    "from mpl_toolkits.axes_grid1.inset_locator import inset_axes\n",
    "from matplotlib.patches import Circle"
   ]
  },
  {
   "cell_type": "markdown",
   "metadata": {},
   "source": [
    "We'll read in ZCTA data since the last three PopEx function runs involved ZCTAs, and we'll plot the wildfire disaster data over the California ZCTAs. We ran these functions to calculate national numbers, but we'll plot our exposure and results in California since it's smaller and we can see what's going on a bit better, since we're demonstrating how the functions work in this tutorial."
   ]
  },
  {
   "cell_type": "code",
   "execution_count": null,
   "metadata": {},
   "outputs": [],
   "source": [
    "# Define the base path and data directory\n",
    "base_path = pathlib.Path.cwd().parent\n",
    "data_dir = base_path / \"demo_data\"\n",
    "\n",
    "# Read the raw ZCTA data\n",
    "zctas = gpd.read_file(data_dir / \"01_raw_data\" / \"tl_2020_us_zcta520\" / \"tl_2020_us_zcta520.shp\")\n",
    "\n",
    "# Filter ZCTAs for California ZIP codes (90xxx to 96xxx)\n",
    "zctas_ca = zctas[zctas['GEOID20'].str[:3].astype(int).between(900, 961)]"
   ]
  },
  {
   "cell_type": "code",
   "execution_count": null,
   "metadata": {},
   "outputs": [],
   "source": [
    "# Read in raw wildfire dataset\n",
    "fires = gpd.read_file(data_dir / \"01_raw_data\"/ \"wildfires_conus.geojson\")\n",
    "\n",
    "# Filter to wildfires in California that occurred between 2016 and 2018 (inclusive)\n",
    "fires_ca = fires[(fires['wildfire_states'].str.contains('CA')) & \n",
    "                 (fires['wildfire_year'] >= 2016) & \n",
    "                 (fires['wildfire_year'] <= 2018)]\n",
    "\n",
    "# transform everything to best crs for plotting california\n",
    "teale_albers_crs = \"EPSG:3310\"\n",
    "\n",
    "zctas_ca = zctas_ca.to_crs(teale_albers_crs)\n",
    "fires_ca = fires_ca.to_crs(teale_albers_crs)"
   ]
  },
  {
   "cell_type": "markdown",
   "metadata": {},
   "source": [
    "First, again just to get an idea of our exposure that we used in the first four function runs, we'll plot all the wildfire disasters in 2016-2018 on the same plot overlayed on ZCTAs. "
   ]
  },
  {
   "cell_type": "code",
   "execution_count": null,
   "metadata": {},
   "outputs": [],
   "source": [
    "# plot the fires overlayed onto ZCTA boundaries\n",
    "# Plot the ZCTA boundaries first\n",
    "fig, ax = plt.subplots(figsize=(10, 10))\n",
    "zctas_ca.boundary.plot(ax=ax, linewidth=0.5, edgecolor='black', zorder=1)\n",
    "\n",
    "# Overlay the fire geometries with fill color\n",
    "fires_ca.plot(ax=ax, color='red', alpha=0.5, edgecolor='red', zorder=2)\n",
    "\n",
    "# Set plot title and labels\n",
    "ax.set_title('Wildfire disaster boundaries in CA 2016-2018 on CA ZCTAs')\n",
    "ax.set_axis_off()\n",
    "\n",
    "output_path = data_dir / \"03_results\" / \"wildfire_zcta_plot.pdf\"\n",
    "plt.savefig(output_path, format='pdf', bbox_inches='tight')\n",
    "\n",
    "plt.show()"
   ]
  },
  {
   "cell_type": "markdown",
   "metadata": {},
   "source": [
    "Nice, ok. Now in the first run of find_num_people_affected, we wanted to know the total people residing within 10 km of any wildfire disaster in the US in each of the years 2016-2018. Let's read in the results.\n",
    "If a user ran the function this way, they'd probably be most likely interested in the total number of people affected by wildfire disasters in each year, so to explore the results of this run, we'll calculate that. We'll sum over the hazard IDs. In the results, the hazard IDs might not be unique and might be concatenated for overlapping hazards because we didn't calculate a total number of people affected by unique hazard. "
   ]
  },
  {
   "cell_type": "code",
   "execution_count": null,
   "metadata": {},
   "outputs": [],
   "source": [
    "# read output\n",
    "tot_af_any_wf = pd.read_parquet(data_dir / \"03_results\" / \"num_people_affected_by_wildfire.parquet\")\n",
    "tot_af_any_wf.head()\n",
    "\n",
    "# group by year, and sum over number of people affected\n",
    "tot_af_any_wf_grouped = tot_af_any_wf.groupby('year')['num_people_affected'].sum().reset_index()\n",
    "# maybe we want to round the output\n",
    "tot_af_any_wf_grouped['num_people_affected'] = tot_af_any_wf_grouped['num_people_affected'].round()\n",
    "tot_af_any_wf_grouped.head()"
   ]
  },
  {
   "cell_type": "markdown",
   "metadata": {},
   "source": [
    "That's it, we got the results we wanted for the first run. \n",
    "\n",
    "Moving on to the second run. \n",
    "\n",
    "In this run we calculated the total number of people residing within 10km of each unique disaster in each year. Someone might have used this function if they wanted to identify the 5 wildfire disasters in each year that were close to the largest residential population, so let's find those disasters and plot them. "
   ]
  },
  {
   "cell_type": "code",
   "execution_count": null,
   "metadata": {},
   "outputs": [],
   "source": [
    "# now we want to read in the output from the function that gave us our \n",
    "# denominator data\n",
    "tot_unique_wf = pd.read_parquet(data_dir / \"03_results\" / \"num_aff_by_unique_wildfire.parquet\")\n",
    "tot_unique_wf.head()"
   ]
  },
  {
   "cell_type": "code",
   "execution_count": null,
   "metadata": {},
   "outputs": [],
   "source": [
    "# want to group this data by year and find the 5 largest wildfires in each year\n",
    "high_impact_wfs = tot_unique_wf.groupby('year').apply(lambda x: x.nlargest(5, 'num_people_affected')).reset_index(drop=True)\n",
    "high_impact_wfs.head()"
   ]
  },
  {
   "cell_type": "code",
   "execution_count": null,
   "metadata": {},
   "outputs": [],
   "source": [
    "# prepare the wildfire data to join the top 5 disasters to, so we can get the geographic locations\n",
    "fires_ca = fires_ca.rename(columns={'wildfire_id': 'ID_climate_hazard'})\n",
    "fires_ca = fires_ca[['ID_climate_hazard', 'geometry']].copy()\n",
    "# and join to get the geographic locations\n",
    "high_impact_wfs = high_impact_wfs.merge(fires_ca, on='ID_climate_hazard', how='left')\n"
   ]
  },
  {
   "cell_type": "markdown",
   "metadata": {},
   "source": [
    "Now let's plot these most impactful disasters on top of the Califonia ZCTAs, so we can see where they are. Let's add some circles proportional to the number of people that were residing within 10 km of each wildfire disaster."
   ]
  },
  {
   "cell_type": "code",
   "execution_count": null,
   "metadata": {},
   "outputs": [],
   "source": [
    "# get the coordinates of each disaster\n",
    "high_impact_wfs = high_impact_wfs.set_geometry('geometry')\n",
    "high_impact_wfs = high_impact_wfs.to_crs(epsg=3310)\n",
    "high_impact_wfs['latitude'] = high_impact_wfs['geometry'].centroid.y\n",
    "high_impact_wfs['longitude'] = high_impact_wfs['geometry'].centroid.x\n",
    "\n",
    "# For example, let's assume 'geometry' is the geometry column and 'radius' is the radius attribute\n",
    "gdf = gpd.GeoDataFrame(high_impact_wfs, geometry=gpd.points_from_xy(high_impact_wfs.longitude, high_impact_wfs.latitude))\n",
    "gdf['radius'] = high_impact_wfs['num_people_affected'] / 50\n",
    "gdf['year'] = gdf['year'].astype('category')"
   ]
  },
  {
   "cell_type": "code",
   "execution_count": null,
   "metadata": {},
   "outputs": [],
   "source": [
    "colors = ['green', 'red', 'blue']\n",
    "unique_years = gdf['year'].cat.categories\n",
    "color_dict = {year: colors[i % len(colors)] for i, year in enumerate(unique_years)}\n",
    "\n",
    "# Plot the ZCTA boundaries first\n",
    "fig, ax = plt.subplots(figsize=(10, 10))\n",
    "zctas_ca.boundary.plot(ax=ax, linewidth=0.5, edgecolor='black', zorder=1)\n",
    "\n",
    "# Plot the wildfire geometries colored by year\n",
    "for idx, row in gdf.iterrows():\n",
    "    color = color_dict[row['year']]\n",
    "    ax.plot(row.geometry.x, row.geometry.y, 'o', color=color, markersize=5, zorder=2)\n",
    "    circle = Circle((row.geometry.x, row.geometry.y), row.radius, color=color, fill=True, alpha=0.2, zorder=2)\n",
    "    ax.add_patch(circle)\n",
    "\n",
    "# Set plot title and labels\n",
    "ax.set_title('Five fires with largest population residing within 10km of fire boundary, by year 2016-2018')\n",
    "# set subtitle\n",
    "ax.text(0.5, 0.99, 'Circle size proportional to number of people affected', horizontalalignment='center', verticalalignment='center', transform=ax.transAxes)\n",
    "ax.set_axis_off()\n",
    "\n",
    "# Add a legend for the discrete colormap\n",
    "handles = [plt.Line2D([0], [0], marker='o', color='w', markerfacecolor=color_dict[year], markersize=10, label=str(year)) for year in unique_years]\n",
    "ax.legend(handles=handles, title='Year', loc='upper right')\n",
    "\n",
    "# Create an inset map for LA area with adjusted position\n",
    "ax_inset = inset_axes(ax, width=\"30%\", height=\"30%\", loc='lower left', bbox_to_anchor=(-0.10, 0.05, 1, 1), bbox_transform=ax.transAxes, borderpad=2)\n",
    "la_zctas = zctas_ca[zctas_ca['GEOID20'].astype(int).between(90001, 91699)]\n",
    "zctas_ca.boundary.plot(ax=ax_inset, linewidth=0.5, edgecolor='black')\n",
    "\n",
    "# Plot the wildfire geometries colored by year in the inset map\n",
    "for idx, row in gdf.iterrows():\n",
    "    if row.geometry.within(la_zctas.unary_union):\n",
    "        color = color_dict[row['year']]\n",
    "        ax_inset.plot(row.geometry.x, row.geometry.y, 'o', color=color, markersize=5, zorder=2)\n",
    "        circle = Circle((row.geometry.x, row.geometry.y), row.radius, color=color, fill=True, alpha=0.2, zorder=2)\n",
    "        ax_inset.add_patch(circle)\n",
    "\n",
    "# Set the extent of the inset map to the bounds of the LA ZCTAs\n",
    "xmin, ymin, xmax, ymax = la_zctas.total_bounds\n",
    "ax_inset.set_xlim(xmin, xmax)\n",
    "ax_inset.set_ylim(ymin, ymax)\n",
    "\n",
    "ax_inset.set_title('LA Area')\n",
    "ax_inset.set_axis_off()\n",
    "\n",
    "plt.show()"
   ]
  },
  {
   "cell_type": "markdown",
   "metadata": {},
   "source": [
    "Ok - that's what we wanted from the second run.\n",
    "\n",
    "Now, let's deal with the results of the third and fourth demonstrations we did, where we ran 'find_num_people_affected_by_geo'. In these cases, we found the number of people who resided within 10 km of any wildfire disaster by year and by ZCTA, and the number of people who resided within 10 km of each wildfire disaster by ZCTA. \n",
    "\n",
    "Why would someone want the number of people who resided within 10 km of any wildfire disaster by year and by ZCTA? A researcher may have wanted to find the number of people affected by any wildfire by ZCTA if they wanted to assess wildfire disaster exposure by ZCTA. They might want to know what proportion of people in each ZCTA lived within 10 km of any disaster boundary and were therefore exposed to fire, and then consider a ZCTA exposed if enough of its population was exposed. If we were doing that exposure assessment, we'd probably want to plot the proportion of people exposed to disasters by ZCTA. So, let's use our results to do that. You'll notice that to accomplish that, we also need to use the denominator data that we produced at the end of the last section, where we found the ZCTA-level population. \n",
    "\n",
    "Let's start by reading in that denominator data, and plotting the number of people who live in each ZCTA."
   ]
  },
  {
   "cell_type": "code",
   "execution_count": null,
   "metadata": {},
   "outputs": [],
   "source": [
    "# want to read that file in\n",
    "num_residing_by_zcta = pd.read_parquet(data_dir / \"03_results\" / \"num_people_residing_by_zcta.parquet\")\n",
    "num_residing_by_zcta.head()"
   ]
  },
  {
   "cell_type": "code",
   "execution_count": null,
   "metadata": {},
   "outputs": [],
   "source": [
    "# clean zctas for plotting\n",
    "zctas_ca.rename(columns={\"ZCTA5CE20\": \"ID_spatial_unit\"}, inplace=True)\n",
    "zctas_ca = zctas_ca[[\"ID_spatial_unit\", \"geometry\"]]\n",
    "zctas_ca.head()"
   ]
  },
  {
   "cell_type": "code",
   "execution_count": null,
   "metadata": {},
   "outputs": [],
   "source": [
    "#num_residing_ca = num_residing_by_zcta[num_residing_by_zcta['ID_spatial_unit'].between(90000, 96100)].copy()\n",
    "num_residing_ca = num_residing_by_zcta[pd.to_numeric(num_residing_by_zcta['ID_spatial_unit']).between(90000, 96100)].copy()\n",
    "num_residing_ca.head()"
   ]
  },
  {
   "cell_type": "code",
   "execution_count": null,
   "metadata": {},
   "outputs": [],
   "source": [
    "# # select cols ID spatial unit and num_people_affected\n",
    "num_residing_ca = num_residing_ca[[\"ID_spatial_unit\", \"num_people_affected\"]]"
   ]
  },
  {
   "cell_type": "code",
   "execution_count": null,
   "metadata": {},
   "outputs": [],
   "source": [
    "zctas_ca.head() \n",
    "num_residing_ca.head()"
   ]
  },
  {
   "cell_type": "code",
   "execution_count": null,
   "metadata": {},
   "outputs": [],
   "source": [
    "# merge to zctas_ca geometry for plotting\n",
    "zctas_ca = zctas_ca.merge(num_residing_ca, on=\"ID_spatial_unit\", how=\"left\")"
   ]
  },
  {
   "cell_type": "code",
   "execution_count": null,
   "metadata": {},
   "outputs": [],
   "source": [
    "la_zctas = zctas_ca[zctas_ca['ID_spatial_unit'].astype(int).between(90000, 91610)]\n",
    "sf_zctas = zctas_ca[zctas_ca['ID_spatial_unit'].astype(int).between(94000, 94199)]"
   ]
  },
  {
   "cell_type": "code",
   "execution_count": null,
   "metadata": {},
   "outputs": [],
   "source": [
    "from mpl_toolkits.axes_grid1.inset_locator import inset_axes\n",
    "\n",
    "fig, ax = plt.subplots(figsize=(10, 10))\n",
    "zctas_ca.plot(column='num_people_affected', ax=ax, legend=True, cmap='viridis', linewidth=0.1, edgecolor='black')\n",
    "\n",
    "# Set plot title and labels\n",
    "ax.set_title('Population by 2020 ZCTA according to GHSL 2020 100m\\n resolution gridded population dataset')\n",
    "ax.set_axis_off()\n",
    "\n",
    "# Create an inset map for LA area with adjusted position\n",
    "ax_inset_la = inset_axes(ax, width=\"30%\", height=\"30%\", loc='lower left', bbox_to_anchor=(-0.4, 0.05, 1, 1), bbox_transform=ax.transAxes, borderpad=2)\n",
    "zctas_ca.plot(column='num_people_affected', ax=ax_inset_la, cmap='viridis', linewidth=0.1, edgecolor='black')\n",
    "\n",
    "# Set the extent of the inset map to the bounds of the LA ZCTAs\n",
    "xmin, ymin, xmax, ymax = la_zctas.total_bounds\n",
    "ax_inset_la.set_xlim(xmin, xmax)\n",
    "ax_inset_la.set_ylim(ymin, ymax)\n",
    "\n",
    "ax_inset_la.set_title('LA Area')\n",
    "ax_inset_la.set_axis_off()\n",
    "\n",
    "# Create an inset map for SF area with adjusted position\n",
    "ax_inset_sf = inset_axes(ax, width=\"30%\", height=\"30%\", loc='lower left', bbox_to_anchor=(-0.4, 0.45, 1, 1), bbox_transform=ax.transAxes, borderpad=2)\n",
    "zctas_ca.plot(column='num_people_affected', ax=ax_inset_sf, cmap='viridis', linewidth=0.1, edgecolor='black')\n",
    "\n",
    "# Set the extent of the inset map to the bounds of the SF ZCTAs\n",
    "xmin, ymin, xmax, ymax = sf_zctas.total_bounds\n",
    "ax_inset_sf.set_xlim(xmin, xmax)\n",
    "ax_inset_sf.set_ylim(ymin, ymax)\n",
    "\n",
    "ax_inset_sf.set_title('Bay Area')\n",
    "ax_inset_sf.set_axis_off()\n",
    "\n",
    "plt.show()"
   ]
  },
  {
   "cell_type": "markdown",
   "metadata": {},
   "source": [
    "Ok so those are our denominators, now let's get the number of people affected by any wildfire by ZCTA. "
   ]
  },
  {
   "cell_type": "code",
   "execution_count": null,
   "metadata": {},
   "outputs": [],
   "source": [
    "# finally need to read number of people affected by wildfire \n",
    "# read output\n",
    "wf_by_zcta = pd.read_parquet(data_dir / \"03_results\" / \"num_people_affected_by_wildfire_by_zcta.parquet\")\n",
    "wf_by_zcta.head()"
   ]
  },
  {
   "cell_type": "code",
   "execution_count": null,
   "metadata": {},
   "outputs": [],
   "source": []
  }
 ],
 "metadata": {
  "kernelspec": {
   "display_name": "wf",
   "language": "python",
   "name": "python3"
  },
  "language_info": {
   "codemirror_mode": {
    "name": "ipython",
    "version": 3
   },
   "file_extension": ".py",
   "mimetype": "text/x-python",
   "name": "python",
   "nbconvert_exporter": "python",
   "pygments_lexer": "ipython3",
   "version": "3.12.4"
  }
 },
 "nbformat": 4,
 "nbformat_minor": 2
}
