{
 "cells": [
  {
   "cell_type": "markdown",
   "metadata": {},
   "source": [
    "#### Introduction\n",
    "\n",
    "The purpose of this notebook, along with 01_data_setup_example.ipynb and 02_run_example.ipynb is to provide a tutorial of how you may want to use the PopExp pacakge functions.\n",
    "\n",
    "Please see 01_data_setup_example.ipynb and 02_run_example.ipynb before you work through this notebook!\n",
    "\n",
    "This notebook is going to explore the results returned by functions in PopExp that were run the previous section of the tutorial. "
   ]
  },
  {
   "cell_type": "markdown",
   "metadata": {},
   "source": [
    "In the previous section, we found the number of people affected by any US wildfire disaster in 2016, 2017, and 2018, as well as the number of people affected by any wildfire disaster by ZCTA and each wildfire disaster by ZCTA.\n",
    "\n",
    "In this section we'll explore the results from each of these function runs.\n",
    "\n",
    "The first function run helped us find the total number of people affected by any wildfire disaster in 2016, 2017, and 2018. To use these results, we'll first read in and plot the original wildfire disaster dataset, and then read in the results and calculate the total number of people affected by any wildfire disaster.\n",
    "\n",
    "We'll start by loading libraries and reading in necessary data. "
   ]
  },
  {
   "cell_type": "code",
   "execution_count": null,
   "metadata": {},
   "outputs": [],
   "source": [
    "import geopandas as gpd \n",
    "import pandas as pd\n",
    "import pathlib\n",
    "import glob\n",
    "\n",
    "# some plotting packages for the plots we'll make\n",
    "import matplotlib as mpl\n",
    "import matplotlib.cm as cm\n",
    "import matplotlib.pyplot as plt\n",
    "import matplotlib.colors as mcolors\n",
    "from mpl_toolkits.axes_grid1.inset_locator import inset_axes\n",
    "from matplotlib.patches import Circle\n",
    "from matplotlib.colors import Normalize"
   ]
  },
  {
   "cell_type": "markdown",
   "metadata": {},
   "source": [
    "We'll read in ZCTA data since the last three PopEx function runs involved ZCTAs, and we'll plot the wildfire disaster data over the California ZCTAs so we can get an idea of what the dataset looks like. We ran these functions to calculate national numbers, but we'll plot our exposure and results in California since it's smaller and we can see what's going on a bit better, since we're demonstrating how these functions work."
   ]
  },
  {
   "cell_type": "code",
   "execution_count": null,
   "metadata": {},
   "outputs": [],
   "source": [
    "# Define the base path and data directory\n",
    "base_path = pathlib.Path.cwd().parent\n",
    "data_dir = base_path / \"demo_data\"\n",
    "\n",
    "# Read the raw ZCTA data\n",
    "zctas = gpd.read_file(data_dir / \"01_raw_data\" / \"tl_2020_us_zcta520\" / \"tl_2020_us_zcta520.shp\")\n",
    "\n",
    "# Filter ZCTAs for California ZIP codes (90000 to 96100)\n",
    "zctas_ca = zctas[zctas['GEOID20'].str[:3].astype(int).between(900, 961)]\n",
    "\n",
    "# Transform to best CRS for plotting CA\n",
    "teale_albers_crs = \"EPSG:3310\"\n",
    "zctas_ca = zctas_ca.to_crs(teale_albers_crs)"
   ]
  },
  {
   "cell_type": "code",
   "execution_count": null,
   "metadata": {},
   "outputs": [],
   "source": [
    "# Read in raw wildfire dataset\n",
    "fires = gpd.read_file(data_dir / \"01_raw_data\"/ \"wildfires_conus.geojson\")\n",
    "\n",
    "# Filter to wildfires in California that occurred between 2016 and 2018 (inclusive)\n",
    "fires_ca = fires[(fires['wildfire_states'].str.contains('CA')) & \n",
    "                 (fires['wildfire_year'] >= 2016) & \n",
    "                 (fires['wildfire_year'] <= 2018)]\n",
    "\n",
    "# Transform to best CRS for plotting California\n",
    "fires_ca = fires_ca.to_crs(teale_albers_crs)"
   ]
  },
  {
   "cell_type": "markdown",
   "metadata": {},
   "source": [
    "First, again just to get an idea of our exposure that we used in the first four function runs, we'll plot all the wildfire disasters in 2016-2018 overlayed on ZCTAs. "
   ]
  },
  {
   "cell_type": "code",
   "execution_count": null,
   "metadata": {},
   "outputs": [],
   "source": [
    "# Plot the fires overlayed onto ZCTA boundaries\n",
    "\n",
    "# Plot the ZCTA boundaries first\n",
    "fig, ax = plt.subplots(figsize=(10, 10))\n",
    "zctas_ca.boundary.plot(ax=ax, linewidth=0.5, edgecolor='black', zorder=1)\n",
    "\n",
    "# Overlay the fire geometries with red fill\n",
    "fires_ca.plot(ax=ax, color='red', alpha=0.5, edgecolor='red', zorder=2)\n",
    "\n",
    "# Set plot title and labels\n",
    "ax.set_title('Wildfire disaster boundaries in CA 2016-2018 on CA ZCTAs')\n",
    "ax.set_axis_off()\n",
    "\n",
    "# Saving for use in the paper describing the PopExp package\n",
    "output_path = data_dir / \"03_results\" / \"wildfire_zcta_plot.pdf\"\n",
    "plt.savefig(output_path, format='pdf', bbox_inches='tight')"
   ]
  },
  {
   "cell_type": "markdown",
   "metadata": {},
   "source": [
    "Nice, ok. \n",
    "\n",
    "Again, in the previous section of this tutorial, we calculated five things. We'll start by exploring the results of the the first one: in the first run of find_num_people_affected, we wanted to know the total people residing within 10 km of any wildfire disaster in the US the years 2016, 2017, and 2018. Let's read in those results.\n",
    "\n",
    "If a user ran find_num_people_affected this way, they'd might be interested in the total number of people affected by wildfire disasters in each year, so to explore the results of this run, we'll calculate those numbers. We'll sum over the hazard IDs. In these results, the hazard IDs might not be unique and might be concatenated for overlapping hazards because we didn't calculate the number of people affected by each unique hazard, rather, we calculated the number of people affected by any hazard."
   ]
  },
  {
   "cell_type": "code",
   "execution_count": null,
   "metadata": {},
   "outputs": [],
   "source": [
    "# Read output of find_num_people_affected \n",
    "tot_af_any_wf = pd.read_parquet(data_dir / \"03_results\" / \"num_people_affected_by_wildfire.parquet\")\n",
    "tot_af_any_wf.head()"
   ]
  },
  {
   "cell_type": "markdown",
   "metadata": {},
   "source": [
    "Note the column names, types, etc., and how hazard IDs might be concatenated. "
   ]
  },
  {
   "cell_type": "code",
   "execution_count": null,
   "metadata": {},
   "outputs": [],
   "source": [
    "# Group by year, and sum over hazards for the number of people affected within each year\n",
    "tot_af_any_wf_grouped = tot_af_any_wf.groupby('year')['num_people_affected'].sum().reset_index()\n",
    "\n",
    "# Round the output since half a person doesn't make sense\n",
    "tot_af_any_wf_grouped['num_people_affected'] = tot_af_any_wf_grouped['num_people_affected'].round()\n",
    "\n",
    "# Show results \n",
    "tot_af_any_wf_grouped.head()"
   ]
  },
  {
   "cell_type": "markdown",
   "metadata": {},
   "source": [
    "That's it, we got the results we wanted for the first run. \n",
    "\n",
    "Moving on to the second run. \n",
    "\n",
    "In this run, we calculated the total number of people residing within 10km of each unique disaster in each year, by running find_num_people_affected with the parameter by_unique_hazard = True. Someone might have run find_num_people_affected this way if they wanted to identify the most 5 most impactful wildfire disasters in each year, where the boundaries were closest to the largest residential population. To explore the results of this run, we'll find those worst 5 disasters and plot them. "
   ]
  },
  {
   "cell_type": "code",
   "execution_count": null,
   "metadata": {},
   "outputs": [],
   "source": [
    "# Read in output from find_num_people_affected\n",
    "tot_unique_wf = pd.read_parquet(data_dir / \"03_results\" / \"num_aff_by_unique_wildfire.parquet\")\n",
    "tot_unique_wf.head()"
   ]
  },
  {
   "cell_type": "markdown",
   "metadata": {},
   "source": [
    "Note the column names, types again. "
   ]
  },
  {
   "cell_type": "code",
   "execution_count": null,
   "metadata": {},
   "outputs": [],
   "source": [
    "# Want to group this data by year and find the 5 largest wildfires in each year\n",
    "# Sort the DataFrame by 'year' and 'num_people_affected' \n",
    "sorted_wfs = tot_unique_wf.sort_values(by=['year', 'num_people_affected'], ascending=[True, False])\n",
    "\n",
    "# Group by 'year' and get the top 5\n",
    "high_impact_wfs = sorted_wfs.groupby('year').head(5).reset_index(drop=True)\n",
    "high_impact_wfs"
   ]
  },
  {
   "cell_type": "markdown",
   "metadata": {},
   "source": [
    "Now we want to plot these. Because find_num_people_affected doesn't preserve the geometry column, we need to rejoin that information to the results. "
   ]
  },
  {
   "cell_type": "code",
   "execution_count": null,
   "metadata": {},
   "outputs": [],
   "source": [
    "# Prepare to join by correcting col names\n",
    "fires_ca = fires_ca.rename(columns={'wildfire_id': 'ID_climate_hazard'})\n",
    "fires_ca = fires_ca[['ID_climate_hazard', 'geometry']].copy()\n",
    "# And join to get the geographic locations\n",
    "high_impact_wfs = high_impact_wfs.merge(fires_ca, on='ID_climate_hazard', how='left')\n"
   ]
  },
  {
   "cell_type": "markdown",
   "metadata": {},
   "source": [
    "Now let's plot these most impactful disasters on top of the Califonia ZCTAs, so we can see where they are. Let's add some circles proportional to the number of people that were residing within 10 km of each wildfire disaster. One of the most impactful disasters was in Washington State, so we're not going to see that one on this plot. \n",
    "\n",
    "We're going to need to work for this plot a little bit. "
   ]
  },
  {
   "cell_type": "code",
   "execution_count": null,
   "metadata": {},
   "outputs": [],
   "source": [
    "# Get the coordinates of each disaster\n",
    "high_impact_wfs = high_impact_wfs.set_geometry('geometry')\n",
    "high_impact_wfs = high_impact_wfs.to_crs(epsg=3310) # reproj \n",
    "high_impact_wfs['latitude'] = high_impact_wfs['geometry'].centroid.y\n",
    "high_impact_wfs['longitude'] = high_impact_wfs['geometry'].centroid.x\n",
    "\n",
    "# Create df of those coordinates\n",
    "gdf = gpd.GeoDataFrame(high_impact_wfs, geometry=gpd.points_from_xy(high_impact_wfs.longitude, high_impact_wfs.latitude))\n",
    "gdf['radius'] = high_impact_wfs['num_people_affected'] / 50\n",
    "gdf['year'] = gdf['year'].astype('category')"
   ]
  },
  {
   "cell_type": "code",
   "execution_count": null,
   "metadata": {},
   "outputs": [],
   "source": [
    "# Set up to plot by specifying the colors we want to use for each year \n",
    "colors = ['green', 'red', 'blue']\n",
    "unique_years = gdf['year'].cat.categories\n",
    "color_dict = {year: colors[i % len(colors)] for i, year in enumerate(unique_years)}\n",
    "\n",
    "# And plot. \n",
    "# Plot the ZCTA boundaries first\n",
    "fig, ax = plt.subplots(figsize=(10, 10))\n",
    "zctas_ca.boundary.plot(ax=ax, linewidth=0.5, edgecolor='black', zorder=1)\n",
    "\n",
    "# Plot the wildfire coordinates and a circle proportional to the number of people affected, colored by year\n",
    "for idx, row in gdf.iterrows():\n",
    "    color = color_dict[row['year']]\n",
    "    ax.plot(row.geometry.x, row.geometry.y, 'o', color=color, markersize=5, zorder=2)\n",
    "    circle = Circle((row.geometry.x, row.geometry.y), row.radius, color=color, fill=True, alpha=0.2, zorder=2)\n",
    "    ax.add_patch(circle)\n",
    "\n",
    "# Set plot title and labels\n",
    "ax.set_title('Five fires with largest population residing within 10km of fire boundary, by year 2016-2018')\n",
    "ax.text(0.5, 0.99, 'Circle size proportional to number of people affected', horizontalalignment='center', verticalalignment='center', transform=ax.transAxes)\n",
    "ax.set_axis_off()\n",
    "\n",
    "# Add a legend \n",
    "handles = [plt.Line2D([0], [0], marker='o', color='w', markerfacecolor=color_dict[year], markersize=10, label=str(year)) for year in unique_years]\n",
    "ax.legend(handles=handles, title='Year', loc='upper right')\n",
    "\n",
    "# Create an inset map for LA area with adjusted position\n",
    "ax_inset = inset_axes(ax, width=\"30%\", height=\"30%\", loc='lower left', bbox_to_anchor=(-0.10, 0.05, 1, 1), bbox_transform=ax.transAxes, borderpad=2)\n",
    "la_zctas = zctas_ca[zctas_ca['GEOID20'].astype(int).between(90001, 91699)]\n",
    "zctas_ca.boundary.plot(ax=ax_inset, linewidth=0.5, edgecolor='black')\n",
    "\n",
    "# Plot the wildfire coordinates and cirlces colored by year in the inset map\n",
    "for idx, row in gdf.iterrows():\n",
    "    if row.geometry.within(la_zctas.unary_union):\n",
    "        color = color_dict[row['year']]\n",
    "        ax_inset.plot(row.geometry.x, row.geometry.y, 'o', color=color, markersize=5, zorder=2)\n",
    "        circle = Circle((row.geometry.x, row.geometry.y), row.radius, color=color, fill=True, alpha=0.2, zorder=2)\n",
    "        ax_inset.add_patch(circle)\n",
    "\n",
    "# Set the extent of the inset map to the bounds of the LA ZCTAs\n",
    "xmin, ymin, xmax, ymax = la_zctas.total_bounds\n",
    "ax_inset.set_xlim(xmin, xmax)\n",
    "ax_inset.set_ylim(ymin, ymax)\n",
    "\n",
    "ax_inset.set_title('LA Area')\n",
    "ax_inset.set_axis_off()"
   ]
  },
  {
   "cell_type": "markdown",
   "metadata": {},
   "source": [
    "Lauren if you have feedback on how to organize and run that plot more nicely pls share! I always get skeeved out by how messy plotting code can look and I don't have good organization ideas for it! "
   ]
  },
  {
   "cell_type": "markdown",
   "metadata": {},
   "source": [
    "Ok - that's what we wanted from the second run."
   ]
  },
  {
   "cell_type": "markdown",
   "metadata": {},
   "source": [
    "Now, let's visualize the results of the third and fourth demonstrations we did, where we ran 'find_num_people_affected_by_geo'. In these cases, we found the number of people who resided within 10 km of any wildfire disaster by year and by ZCTA, and the number of people who resided within 10 km of each wildfire disaster by ZCTA. \n",
    "\n",
    "Why would someone want the number of people who resided within 10 km of any wildfire disaster by year and by ZCTA? A researcher may have wanted to find the number of people affected by any wildfire by ZCTA if they wanted to assess wildfire disaster exposure by ZCTA. They might want to know what proportion of people in each ZCTA lived within 10 km of any disaster boundary and were therefore exposed to fire, and then consider a ZCTA exposed if enough of its population was exposed. If we were doing that exposure assessment, we'd probably want to plot the proportion of people exposed to disasters by ZCTA. So, let's use our results to do that. To accomplish that, we also need to use the denominator data that we produced at the end of the last section, where we found the ZCTA-level population. \n",
    "\n",
    "Let's start by reading in that denominator data, and plotting the number of people who live in each ZCTA."
   ]
  },
  {
   "cell_type": "code",
   "execution_count": null,
   "metadata": {},
   "outputs": [],
   "source": [
    "# Read results showing the number of people residing in each ZCTA\n",
    "num_residing_by_zcta = pd.read_parquet(data_dir / \"03_results\" / \"num_people_residing_by_zcta.parquet\")\n",
    "\n",
    "# CA only based on ZCTAs\n",
    "num_residing_ca = num_residing_by_zcta[pd.to_numeric(num_residing_by_zcta['ID_spatial_unit']).between(90000, 96100)].copy()\n",
    "\n",
    "# select cols ID spatial unit and num_people_affected\n",
    "num_residing_ca = num_residing_ca[[\"ID_spatial_unit\", \"num_people_residing\"]]\n",
    "num_residing_ca.head()"
   ]
  },
  {
   "cell_type": "code",
   "execution_count": null,
   "metadata": {},
   "outputs": [],
   "source": [
    "# Clean zctas for plotting\n",
    "zctas_ca.rename(columns={\"ZCTA5CE20\": \"ID_spatial_unit\"}, inplace=True)\n",
    "zctas_ca = zctas_ca[[\"ID_spatial_unit\", \"geometry\"]]\n",
    "\n",
    "# Merge population data to zctas_ca geometry for plotting\n",
    "zctas_ca = zctas_ca.merge(num_residing_ca, on=\"ID_spatial_unit\", how=\"left\")"
   ]
  },
  {
   "cell_type": "code",
   "execution_count": null,
   "metadata": {},
   "outputs": [],
   "source": [
    "# Find LA and Bay ZCTAs for map insets\n",
    "la_zctas = zctas_ca[zctas_ca['ID_spatial_unit'].astype(int).between(90000, 91610)]\n",
    "sf_zctas = zctas_ca[zctas_ca['ID_spatial_unit'].astype(int).between(94000, 94199)]\n",
    "\n",
    "# Plot.\n",
    "fig, ax = plt.subplots(figsize=(10, 10))\n",
    "\n",
    "# Create the main plot WITHOUT the legend parameter\n",
    "zctas_ca.plot(column='num_people_residing', ax=ax, cmap='viridis', \n",
    "              linewidth=0.1, edgecolor='black')\n",
    "\n",
    "# Create a colorbar as the legend\n",
    "norm = Normalize(vmin=zctas_ca['num_people_residing'].min(), vmax=zctas_ca['num_people_residing'].max())\n",
    "sm = plt.cm.ScalarMappable(cmap='viridis', norm=norm)\n",
    "sm.set_array([])\n",
    "cbar = fig.colorbar(sm, ax=ax, fraction=0.03, pad=0.04)\n",
    "cbar.set_label('Number of People Residing')\n",
    "\n",
    "# Set plot title and labels\n",
    "ax.set_title('Population by 2020 ZCTA according to GHSL 2020 100m\\n resolution gridded population dataset', pad=20)\n",
    "ax.set_axis_off()\n",
    "\n",
    "# Create an inset map for LA area with adjusted position\n",
    "ax_inset_la = inset_axes(ax, width=\"30%\", height=\"30%\", loc='lower left', \n",
    "                         bbox_to_anchor=(-0.4, 0.05, 1, 1), \n",
    "                         bbox_transform=ax.transAxes, borderpad=2)\n",
    "zctas_ca.plot(column='num_people_residing', ax=ax_inset_la, cmap='viridis', \n",
    "              linewidth=0.1, edgecolor='black')\n",
    "\n",
    "# Set the extent of the inset map to the bounds of the LA ZCTAs\n",
    "xmin, ymin, xmax, ymax = la_zctas.total_bounds\n",
    "ax_inset_la.set_xlim(xmin, xmax)\n",
    "ax_inset_la.set_ylim(ymin, ymax)\n",
    "ax_inset_la.set_title('LA Area')\n",
    "ax_inset_la.set_axis_off()\n",
    "\n",
    "# Create an inset map for SF area with adjusted position\n",
    "ax_inset_sf = inset_axes(ax, width=\"30%\", height=\"30%\", loc='lower left', \n",
    "                         bbox_to_anchor=(-0.4, 0.45, 1, 1), \n",
    "                         bbox_transform=ax.transAxes, borderpad=2)\n",
    "zctas_ca.plot(column='num_people_residing', ax=ax_inset_sf, cmap='viridis', \n",
    "              linewidth=0.1, edgecolor='black')\n",
    "\n",
    "# Set the extent of the inset map to the bounds of the SF ZCTAs\n",
    "xmin, ymin, xmax, ymax = sf_zctas.total_bounds\n",
    "ax_inset_sf.set_xlim(xmin, xmax)\n",
    "ax_inset_sf.set_ylim(ymin, ymax)\n",
    "ax_inset_sf.set_title('Bay Area')\n",
    "ax_inset_sf.set_axis_off()\n",
    "\n",
    "# Adjust the layout to make room for the legend\n",
    "plt.tight_layout(rect=[0, 0, 0.85, 1])  # Adjust the right padding to make room for the legend\n",
    "\n",
    "# Save fig for use in pop_exp package paper\n",
    "output_path = data_dir / \"03_results\" / \"pop_by_zcta_plot.png\"\n",
    "plt.savefig(output_path, format='png', bbox_inches='tight', dpi=300)  # Set dpi for higher resolution"
   ]
  },
  {
   "cell_type": "markdown",
   "metadata": {},
   "source": [
    "Ok so those are our denominators. Now let's get the number of people affected by *any* wildfire by ZCTA. "
   ]
  },
  {
   "cell_type": "code",
   "execution_count": null,
   "metadata": {},
   "outputs": [],
   "source": [
    "# Read output of find_num_people_affected_by_geo\n",
    "wf_by_zcta = pd.read_parquet(data_dir / \"03_results\" / \"num_people_affected_by_wildfire_by_zcta.parquet\")\n",
    "wf_by_zcta.head()"
   ]
  },
  {
   "cell_type": "code",
   "execution_count": null,
   "metadata": {},
   "outputs": [],
   "source": [
    "zctas_ca.head()"
   ]
  },
  {
   "cell_type": "code",
   "execution_count": null,
   "metadata": {},
   "outputs": [],
   "source": [
    "# someone actually doing this might want to plot all years, but let's just select 2018\n",
    "# and plot that\n",
    "wf_by_zcta_2018 = wf_by_zcta[wf_by_zcta['year'] == 2018].copy()\n",
    "# drop the year col\n",
    "wf_by_zcta_2018.drop(columns='year', inplace=True)\n",
    "wf_by_zcta_2018.head()"
   ]
  },
  {
   "cell_type": "code",
   "execution_count": null,
   "metadata": {},
   "outputs": [],
   "source": [
    "# merge to zctas_ca geometry for plotting\n",
    "zctas_ca_wf = zctas_ca.merge(wf_by_zcta_2018, on=\"ID_spatial_unit\", how=\"left\")\n",
    "zctas_ca_wf.head()"
   ]
  },
  {
   "cell_type": "code",
   "execution_count": null,
   "metadata": {},
   "outputs": [],
   "source": [
    "# fill in NAs in num people affected with 0\n",
    "zctas_ca_wf['num_people_affected'] = zctas_ca_wf['num_people_affected'].fillna(0)\n",
    "zctas_ca_wf.head()\n"
   ]
  },
  {
   "cell_type": "code",
   "execution_count": null,
   "metadata": {},
   "outputs": [],
   "source": [
    "# find the proportion of people affected by ZCTA\n",
    "zctas_ca_wf['prop_aff'] = zctas_ca_wf['num_people_affected'] / zctas_ca_wf['num_people_residing']"
   ]
  },
  {
   "cell_type": "code",
   "execution_count": null,
   "metadata": {},
   "outputs": [],
   "source": [
    "# Plot. \n",
    "fig, ax = plt.subplots(figsize=(10, 10))\n",
    "zctas_ca_wf.plot(column='prop_aff', ax=ax, legend=True, cmap='viridis', linewidth=0.1, edgecolor='black')\n",
    "\n",
    "# Set plot title and labels\n",
    "ax.set_title('Proportion of ZCTA population residing within 10km of a 2018\\n wildfire boundary by 2020 ZCTA')\n",
    "ax.set_axis_off()\n",
    "\n",
    "# Create an inset map for LA area with adjusted position\n",
    "ax_inset_la = inset_axes(ax, width=\"30%\", height=\"30%\", loc='lower left', bbox_to_anchor=(-0.4, 0.05, 1, 1), bbox_transform=ax.transAxes, borderpad=2)\n",
    "zctas_ca_wf.plot(column='prop_aff', ax=ax_inset_la, cmap='viridis', linewidth=0.1, edgecolor='black', legend=False)\n",
    "\n",
    "# Set the extent of the inset map to the bounds of the LA ZCTAs\n",
    "xmin, ymin, xmax, ymax = la_zctas.total_bounds\n",
    "ax_inset_la.set_xlim(xmin, xmax)\n",
    "ax_inset_la.set_ylim(ymin, ymax)\n",
    "\n",
    "ax_inset_la.set_title('LA Area')\n",
    "ax_inset_la.set_axis_off()\n",
    "\n",
    "# Create an inset map for SF area with adjusted position\n",
    "ax_inset_sf = inset_axes(ax, width=\"30%\", height=\"30%\", loc='lower left', bbox_to_anchor=(-0.4, 0.45, 1, 1), bbox_transform=ax.transAxes, borderpad=2)\n",
    "zctas_ca_wf.plot(column='prop_aff', ax=ax_inset_sf, cmap='viridis', linewidth=0.1, edgecolor='black', legend=False)\n",
    "\n",
    "# Set the extent of the inset map to the bounds of the SF ZCTAs\n",
    "xmin, ymin, xmax, ymax = sf_zctas.total_bounds\n",
    "ax_inset_sf.set_xlim(xmin, xmax)\n",
    "ax_inset_sf.set_ylim(ymin, ymax)\n",
    "\n",
    "ax_inset_sf.set_title('Bay Area')\n",
    "ax_inset_sf.set_axis_off()\n",
    "\n",
    "# Save output path\n",
    "output_path = data_dir / \"03_results\" / \"prop_pop_by_wf_by_zcta_plot.png\"\n",
    "plt.savefig(output_path, format='png', bbox_inches='tight', dpi=300)  # Set dpi for higher resolution"
   ]
  },
  {
   "cell_type": "markdown",
   "metadata": {},
   "source": [
    "Ok, great. \n",
    "\n",
    "One final thing about this output - this output shows us the proprtion of the ZCTA population residing within 10km of a wildfire disaster boundary by ZCTA. \n",
    "\n",
    "If instead of the total population, we wanted to find the total number of people making >100,000$ in household income living within 10km of a wildfire disaster boundary by ZCTA, or the total number children under the age of 5 residing within 10km of a wildfire disaster boundary by ZCTA, we could use census data together with this function output to do this. We could do this for any census-described population. If we assume that the population of interest (ex. children under 5) is uniformly distributed throughout the residential population, we can take the function output describing the proportion of the population residing within 10km of the fire boundaries and multiply this by the under 5 population to estimate the number of children exposed. This is improves upon the strategy of using census data and hazard boundaries to find the exposed populuation, which assumes that the population is uniformly distributed across space. "
   ]
  },
  {
   "cell_type": "markdown",
   "metadata": {},
   "source": [
    "Finally, let's look at the results from finding the number of people affected by each unique wildfire disaster in each ZCTA, the fourth quantity we calculated in the previous section of the tutorial. There are many reasons why someone might want to calculate this type of exposure - maybe they want to look at multiple exposures. To explore these results, we'll keep it simple. A researcher might be interested in this option if they wanted to know about multiple exposures in the same ZCTA or a group of ZCTAs, maybe for an interrupted time series analysis or something similar. If that was the goal, they might want to look at exposure over time in a specific ZCTA. They also might want to know which ZCTAs were affected by a certain disaster.\n",
    " \n",
    "First, let's filter the results to look at ZCTA 90263, downtown Malibu."
   ]
  },
  {
   "cell_type": "code",
   "execution_count": null,
   "metadata": {},
   "outputs": [],
   "source": [
    "# need to read in results \n",
    "unique_wf_by_zcta = pd.read_parquet(data_dir / \"03_results\" / \"num_people_affected_by_wildfire_zcta_unique.parquet\")\n",
    "unique_wf_by_zcta.head()"
   ]
  },
  {
   "cell_type": "code",
   "execution_count": null,
   "metadata": {},
   "outputs": [],
   "source": [
    "# filter to zcta 90263\n",
    "unique_wf_by_zcta_90263 = unique_wf_by_zcta[unique_wf_by_zcta['ID_spatial_unit'] == '90263']\n",
    "print(unique_wf_by_zcta_90263)"
   ]
  },
  {
   "cell_type": "markdown",
   "metadata": {},
   "source": [
    "We can see that the Woolsey fire boundary was within 10km of 1578 people living in this ZCTA. The fire burned some structures and homes in Malibu, but did not burn through the whole downtown, so some of these people might have been living in the fire boundary - we'd need to map the raster and fire boundary data to tell. \n",
    "\n",
    "Let's also look at the Camp Fire. "
   ]
  },
  {
   "cell_type": "code",
   "execution_count": null,
   "metadata": {},
   "outputs": [],
   "source": [
    "unique_wf_by_zcta_cf = unique_wf_by_zcta[unique_wf_by_zcta['ID_climate_hazard'] == '2018-11-08_CAMP_CA_BUTTE_5168']\n",
    "print(unique_wf_by_zcta_cf)"
   ]
  },
  {
   "cell_type": "markdown",
   "metadata": {},
   "source": [
    "Looks like there were people in 15 different ZCTAs who were living within 10km of the fire boundary or closer - in this case we know this fire burned completely through Paradise so a lot of thses people were actually living inside the fire boundary rather than just close to it. "
   ]
  },
  {
   "cell_type": "markdown",
   "metadata": {},
   "source": [
    "We already used the output from the fifth function to calculate the proportion of the ZCTA populations affected by wildfire disasters, so that's the end. We hope you find these functions useful for population-level environmental exposure assignment. "
   ]
  },
  {
   "cell_type": "code",
   "execution_count": null,
   "metadata": {},
   "outputs": [],
   "source": []
  }
 ],
 "metadata": {
  "kernelspec": {
   "display_name": "wf",
   "language": "python",
   "name": "python3"
  },
  "language_info": {
   "codemirror_mode": {
    "name": "ipython",
    "version": 3
   },
   "file_extension": ".py",
   "mimetype": "text/x-python",
   "name": "python",
   "nbconvert_exporter": "python",
   "pygments_lexer": "ipython3",
   "version": "3.12.4"
  }
 },
 "nbformat": 4,
 "nbformat_minor": 2
}
